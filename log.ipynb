{
 "cells": [
  {
   "cell_type": "code",
   "execution_count": null,
   "id": "078f0e57",
   "metadata": {},
   "outputs": [],
   "source": [
    "\"\"\"Lesson 1 log notebook.\"\"\""
   ]
  },
  {
   "cell_type": "markdown",
   "id": "13a2f70e",
   "metadata": {},
   "source": [
    "\n",
    "19/07\n",
    "\n",
    "1) I have finished my INTRO tasks\n",
    "2) Fixed all mistakes with Cursor\n",
    "3) Fixed mistakes on my terminal in Cursor\n",
    "4) Downloaded float8 and pylint\n",
    "5) Checked what is Pydocstyle rules"
   ]
  }
 ],
 "metadata": {
  "language_info": {
   "name": "python"
  }
 },
 "nbformat": 4,
 "nbformat_minor": 5
}
